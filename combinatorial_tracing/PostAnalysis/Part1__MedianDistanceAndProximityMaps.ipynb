{
 "cells": [
  {
   "cell_type": "markdown",
   "metadata": {},
   "source": [
    "__Author__: Bogdan Bintu\n",
    "\n",
    "__Email__: bbintu@g.harvard.edu\n",
    "\n",
    "__Date__:3/4/2020\n",
    "\n",
    "__Platform__: Python 2.7"
   ]
  },
  {
   "cell_type": "code",
   "execution_count": 3,
   "metadata": {},
   "outputs": [],
   "source": [
    "import matplotlib\n",
    "matplotlib.rcParams['pdf.fonttype'] = 42\n",
    "matplotlib.rcParams['font.size']=15\n",
    "matplotlib.rcParams['font.family']='Arial'\n",
    "import matplotlib.pyplot as plt\n",
    "import numpy as np\n",
    "import os\n",
    "from pathlib import Path\n",
    "import matplotlib.pyplot as plt\n",
    "import numpy as np\n",
    "from scipy.spatial.distance import pdist,cdist,squareform\n",
    "from tqdm import tqdm_notebook as tqdm"
   ]
  },
  {
   "cell_type": "markdown",
   "metadata": {},
   "source": [
    "### Please specifiy the data/save folders"
   ]
  },
  {
   "cell_type": "code",
   "execution_count": 6,
   "metadata": {},
   "outputs": [],
   "source": [
    "data_folder = '../../data' #This is the folder containing the .tsv data files\n",
    "save_data = '../../data'"
   ]
  },
  {
   "cell_type": "markdown",
   "metadata": {},
   "source": [
    "### 1. Load the positions of the ~1000 chromatin loci imaged across the ~5400 cells"
   ]
  },
  {
   "cell_type": "code",
   "execution_count": 7,
   "metadata": {},
   "outputs": [
    {
     "ename": "FileNotFoundError",
     "evalue": "[Errno 2] No such file or directory: '../../data/genomic-scale.tsv'",
     "output_type": "error",
     "traceback": [
      "\u001b[0;31m---------------------------------------------------------------------------\u001b[0m",
      "\u001b[0;31mFileNotFoundError\u001b[0m                         Traceback (most recent call last)",
      "Input \u001b[0;32mIn [7]\u001b[0m, in \u001b[0;36m<cell line: 4>\u001b[0;34m()\u001b[0m\n\u001b[1;32m      1\u001b[0m folder \u001b[38;5;241m=\u001b[39m data_folder\n\u001b[1;32m      3\u001b[0m experiment \u001b[38;5;241m=\u001b[39m []\n\u001b[0;32m----> 4\u001b[0m fid \u001b[38;5;241m=\u001b[39m \u001b[38;5;28;43mopen\u001b[39;49m\u001b[43m(\u001b[49m\u001b[43mfolder\u001b[49m\u001b[38;5;241;43m+\u001b[39;49m\u001b[43mos\u001b[49m\u001b[38;5;241;43m.\u001b[39;49m\u001b[43msep\u001b[49m\u001b[38;5;241;43m+\u001b[39;49m\u001b[38;5;124;43mr\u001b[39;49m\u001b[38;5;124;43m'\u001b[39;49m\u001b[38;5;124;43mgenomic-scale.tsv\u001b[39;49m\u001b[38;5;124;43m'\u001b[39;49m\u001b[43m,\u001b[49m\u001b[38;5;124;43m'\u001b[39;49m\u001b[38;5;124;43mr\u001b[39;49m\u001b[38;5;124;43m'\u001b[39;49m\u001b[43m)\u001b[49m\n\u001b[1;32m      5\u001b[0m lines \u001b[38;5;241m=\u001b[39m np\u001b[38;5;241m.\u001b[39marray([ln[:\u001b[38;5;241m-\u001b[39m\u001b[38;5;241m1\u001b[39m]\u001b[38;5;241m.\u001b[39msplit(\u001b[38;5;124m'\u001b[39m\u001b[38;5;130;01m\\t\u001b[39;00m\u001b[38;5;124m'\u001b[39m)\u001b[38;5;28;01mfor\u001b[39;00m ln \u001b[38;5;129;01min\u001b[39;00m fid \u001b[38;5;28;01mif\u001b[39;00m \u001b[38;5;28mlen\u001b[39m(ln)\u001b[38;5;241m>\u001b[39m\u001b[38;5;241m0\u001b[39m])\n\u001b[1;32m      6\u001b[0m head \u001b[38;5;241m=\u001b[39m \u001b[38;5;28mlist\u001b[39m(lines[\u001b[38;5;241m0\u001b[39m])\n",
      "\u001b[0;31mFileNotFoundError\u001b[0m: [Errno 2] No such file or directory: '../../data/genomic-scale.tsv'"
     ]
    }
   ],
   "source": [
    "folder = data_folder\n",
    "\n",
    "experiment = []\n",
    "fid = open(folder+os.sep+r'genomic-scale.tsv','r')\n",
    "lines = np.array([ln[:-1].split('\\t')for ln in fid if len(ln)>0])\n",
    "head = list(lines[0])\n",
    "experiment = np.concatenate([experiment,lines[1::2082,head.index('experiment number')].astype(int)])\n",
    "zxy = np.array(lines[1:,:3][:],dtype=np.float)\n",
    "dLAM = np.array(lines[1:,-1].astype(float))\n",
    "\n",
    "fid = open(folder+os.sep+r'genomic-scale-with transcription and nuclear bodies.tsv','r')\n",
    "lines = np.array([ln[:-1].split('\\t')for ln in fid if len(ln)>0])\n",
    "head = list(lines[0])\n",
    "experiment = np.concatenate([experiment,lines[1::2082,head.index('experiment number')].astype(int)])\n",
    "dLAM = np.concatenate([dLAM,np.array(lines[1:,-3].astype(float))])\n",
    "zxy = np.concatenate([zxy,np.array(lines[1:,:3][:],dtype=np.float)])\n",
    "zxy = zxy.reshape([-1,2082,3])/1000 #transform to um\n",
    "dLAM = dLAM.reshape([-1,2082])/1000"
   ]
  },
  {
   "cell_type": "markdown",
   "metadata": {},
   "source": [
    "### 2. Calculate median distance matrices and proximity matrices for cis- and trans- interactions"
   ]
  },
  {
   "cell_type": "code",
   "execution_count": null,
   "metadata": {},
   "outputs": [],
   "source": [
    "lens = [76, 80, 66, 63, 60, 55, 53, 48, 40, 43, 44, 44, 33, 30, 31, 30, 33, 33, 33, 33, 31, 31, 51]\n",
    "edges = [0]+list(np.cumsum(lens))\n",
    "ijs = []\n",
    "for i in range(len(lens)):\n",
    "    for j in range(len(lens)):\n",
    "        ijs.append((i,j))\n",
    "im_med = np.zeros([edges[-1],edges[-1]])\n",
    "cut_offs = [0.25,0.5,0.75,1]\n",
    "#cut_offs = np.arange(0.1,1.05,0.05)\n",
    "im_fr = np.zeros([edges[-1],edges[-1],len(cut_offs)])\n",
    "im_med_trans = []\n",
    "im_med_cis = []\n",
    "im_fr_trans = [[] for _ in cut_offs]\n",
    "im_fr_cis = [[] for _ in cut_offs]\n",
    "\n",
    "#Decide whether to add simulated noise\n",
    "#rnd_noise = np.random.normal(scale=60/1.6,size=zxy.shape)/1000\n",
    "zxy_ = zxy#+rnd_noise\n",
    "for i,j in tqdm(ijs):\n",
    "    arr = []\n",
    "    for st1 in [0,edges[-1]]:\n",
    "        for st2 in [0,edges[-1]]:\n",
    "            zxy1 = zxy_[:,st1+edges[i]:st1+edges[i+1]]\n",
    "            zxy2 = zxy_[:,st2+edges[j]:st2+edges[j+1]]\n",
    "            arr =arr+[cdist(zxy1[k],zxy2[k]) for k in range(len(zxy1))]\n",
    "    arr = np.array(arr)\n",
    "    im_med[edges[i]:edges[i+1],edges[j]:edges[j+1]]=np.nanmedian(arr,axis=0)\n",
    "    if i==j:\n",
    "        im_med_cis.append(np.nanmedian(arr[::2],axis=0))\n",
    "        im_med_trans.append(np.nanmedian(arr[1::2],axis=0))\n",
    "    for ic,cutoff in enumerate(cut_offs):\n",
    "        im_fr[edges[i]:edges[i+1],edges[j]:edges[j+1],ic] = 1.*np.sum(arr<cutoff,0)/np.sum(arr>-1,0)\n",
    "        if i==j:\n",
    "            im_fr_trans[ic].append(1.*np.sum(arr[1::2]<cutoff,0)/np.sum(arr[1::2]>-1,0))\n",
    "            im_fr_cis[ic].append(1.*np.sum(arr[::2]<cutoff,0)/np.sum(arr[::2]>-1,0))\n",
    "pickle.dump([im_med,im_fr,im_med_trans,im_med_cis,im_fr_trans,im_fr_cis,len(zxy)],\n",
    "        open(save_data+r'/mat_contact_IMR90_untreated.pkl','wb'))"
   ]
  },
  {
   "cell_type": "markdown",
   "metadata": {},
   "source": [
    "#### Load saved data"
   ]
  },
  {
   "cell_type": "code",
   "execution_count": null,
   "metadata": {},
   "outputs": [],
   "source": [
    "im_med,im_fr,im_med_trans,im_med_cis,im_fr_trans,im_fr_cis,lzxy = pickle.load(\n",
    "            open(save_data+r'/mat_contact_IMR90_untreated.pkl','rb'))"
   ]
  },
  {
   "cell_type": "code",
   "execution_count": null,
   "metadata": {},
   "outputs": [],
   "source": [
    "import matplotlib\n",
    "matplotlib.rcParams['pdf.fonttype'] = 42\n",
    "matplotlib.rcParams['font.size']=15\n",
    "matplotlib.rcParams['font.family']='Arial'\n",
    "import matplotlib.pyplot as plt\n",
    "import numpy as np\n",
    "import os"
   ]
  },
  {
   "cell_type": "markdown",
   "metadata": {},
   "source": [
    "#### Display matrices"
   ]
  },
  {
   "cell_type": "code",
   "execution_count": null,
   "metadata": {},
   "outputs": [],
   "source": [
    "#number of regions per chormosome\n",
    "lens = [76, 80, 66, 63, 60, 55, 53, 48, 40, 43, 44, 44, 33, 30, 31, 30, 33, 33, 33, 33, 31, 31, 51]\n",
    "edges = np.cumsum([0]+lens)\n",
    "colors_all = np.array([1.*il/len(lens)for il,ln in enumerate(lens) for _ in range(ln)])\n",
    "\n",
    "from mpl_toolkits.axes_grid1 import make_axes_locatable\n",
    "fig = plt.figure(figsize=(10,15))\n",
    "plt.title('Median spatial distance\\n('+str(lzxy)+' cells)')\n",
    "ax = fig.add_subplot(111)\n",
    "divider = make_axes_locatable(ax)\n",
    "cax = divider.append_axes(\"bottom\", size=\"5%\", pad=0.)\n",
    "cax2 = divider.append_axes(\"left\", size=\"5%\", pad=0.)\n",
    "ax.imshow(im_med,cmap='coolwarm_r',vmin=3,vmax=10)\n",
    "deltah = 50\n",
    "cax.imshow(np.array([colors_all]*deltah),cmap='rainbow_r',interpolation='nearest')\n",
    "cax2.imshow(np.array([colors_all]*deltah).T,cmap='rainbow_r',interpolation='nearest')\n",
    "xticks = np.where(np.diff(colors_all)!=0)[0]\n",
    "for tk in xticks: cax.plot([tk,tk],[0.5,deltah-0.5],'k')\n",
    "for tk in xticks: cax2.plot([0.5,deltah-0.5],[tk,tk],'k')\n",
    "centers = (np.cumsum([0]+lens)[:-1]+np.cumsum(lens))/2.\n",
    "nms = map(str,np.arange(len(centers))+1)\n",
    "nms[-1]='X'\n",
    "cax.set_xticks(centers)\n",
    "cax.set_xticklabels(nms)\n",
    "cax.set_xlabel('Chromosomes')\n",
    "cax2.set_yticks(centers)\n",
    "cax2.set_yticklabels(nms)\n",
    "cax2.set_ylabel('Chromosomes')\n",
    "ax.set_xticks(xticks)\n",
    "ax.set_xticklabels([''])\n",
    "ax.set_yticks([])\n",
    "cax.set_yticks([])\n",
    "cax2.set_xticks([])\n",
    "\n",
    "#fig.savefig(r'C:\\Users\\Bogdan\\Dropbox\\ScienceWGCT_Figures\\baseimages\\Fig1_med_map_all_nocbar.pdf')"
   ]
  },
  {
   "cell_type": "code",
   "execution_count": null,
   "metadata": {},
   "outputs": [],
   "source": [
    "#number of regions per chormosome\n",
    "lens = [76, 80, 66, 63, 60, 55, 53, 48, 40, 43, 44, 44, 33, 30, 31, 30, 33, 33, 33, 33, 31, 31, 51]\n",
    "edges = np.cumsum([0]+lens)\n",
    "colors_all = np.array([1.*il/len(lens)for il,ln in enumerate(lens) for _ in range(ln)])\n",
    "\n",
    "from mpl_toolkits.axes_grid1 import make_axes_locatable\n",
    "fig = plt.figure(figsize=(10,15))\n",
    "plt.title('Proximity frequency matrix\\n('+str(lzxy)+' cells)')\n",
    "ax = fig.add_subplot(111)\n",
    "divider = make_axes_locatable(ax)\n",
    "cax = divider.append_axes(\"bottom\", size=\"5%\", pad=0.)\n",
    "cax2 = divider.append_axes(\"left\", size=\"5%\", pad=0.)\n",
    "ax.imshow(np.log(im_fr[:,:,1]),cmap='seismic',vmin=-8,vmax=-2.5)\n",
    "deltah = 50\n",
    "cax.imshow(np.array([colors_all]*deltah),cmap='rainbow_r',interpolation='nearest')\n",
    "cax2.imshow(np.array([colors_all]*deltah).T,cmap='rainbow_r',interpolation='nearest')\n",
    "xticks = np.where(np.diff(colors_all)!=0)[0]\n",
    "for tk in xticks: cax.plot([tk,tk],[0.5,deltah-0.5],'k')\n",
    "for tk in xticks: cax2.plot([0.5,deltah-0.5],[tk,tk],'k')\n",
    "centers = (np.cumsum([0]+lens)[:-1]+np.cumsum(lens))/2.\n",
    "nms = map(str,np.arange(len(centers))+1)\n",
    "nms[-1]='X'\n",
    "cax.set_xticks(centers)\n",
    "cax.set_xticklabels(nms)\n",
    "cax.set_xlabel('Chromosomes')\n",
    "cax2.set_yticks(centers)\n",
    "cax2.set_yticklabels(nms)\n",
    "cax2.set_ylabel('Chromosomes')\n",
    "ax.set_xticks(xticks)\n",
    "ax.set_xticklabels([''])\n",
    "ax.set_yticks([])\n",
    "cax.set_yticks([])\n",
    "cax2.set_xticks([])"
   ]
  },
  {
   "cell_type": "markdown",
   "metadata": {},
   "source": [
    "### 3. Compare population average maps deverived from Hi-C to those derived from imaging at the genomic-scale"
   ]
  },
  {
   "cell_type": "markdown",
   "metadata": {},
   "source": [
    "#### Import the corresponding Hi-C data to the 1041 regions\n",
    "Note: The Hi-C, from the combined IMR90 Rao et al 2019 paper, reports the number of raw contacts dectected between regions 500kb in size and centered at the coordinates of each imaged region."
   ]
  },
  {
   "cell_type": "code",
   "execution_count": null,
   "metadata": {},
   "outputs": [],
   "source": [
    "#This data has been downloaded from Rao et al. Cell 2014\n",
    "hic_fl = data_folder+os.sep+r'\\Hi-C matrices\\Hi-C_contacts_genome-scale.tsv'\n",
    "hic = np.array([ln[:-1].split('\\t') for ln in open(hic_fl,'r')])\n",
    "hic = hic[1:,1:].astype(float)"
   ]
  },
  {
   "cell_type": "markdown",
   "metadata": {},
   "source": [
    "#### Calculate cis cross-correlation with HiC"
   ]
  },
  {
   "cell_type": "code",
   "execution_count": null,
   "metadata": {},
   "outputs": [],
   "source": [
    "#number of regions per chormosome\n",
    "lens = [76, 80, 66, 63, 60, 55, 53, 48, 40, 43, 44, 44, 33, 30, 31, 30, 33, 33, 33, 33, 31, 31, 51]\n",
    "edges = np.cumsum([0]+lens)\n",
    "im_med,im_fr,im_med_trans,im_med_cis,im_fr_trans,im_fr_cis,nlen=  pickle.load(\n",
    "    open(save_data+r'/mat_contact_IMR90_untreated.pkl','rb'))"
   ]
  },
  {
   "cell_type": "code",
   "execution_count": null,
   "metadata": {},
   "outputs": [],
   "source": [
    "xhic = []\n",
    "ymed = []\n",
    "yfr = []\n",
    "for ichr in range(len(edges)-1):\n",
    "    xhic.extend(hic[edges[ichr]:edges[ichr+1],edges[ichr]:edges[ichr+1]].ravel())\n",
    "    ymed.extend(im_med_cis[ichr].ravel())\n",
    "    im_ = im_fr_cis[1][ichr].copy()\n",
    "    im_[np.arange(len(im_)),np.arange(len(im_))]=np.nan\n",
    "    yfr.extend(im_.ravel())"
   ]
  },
  {
   "cell_type": "code",
   "execution_count": null,
   "metadata": {},
   "outputs": [],
   "source": [
    "import matplotlib\n",
    "matplotlib.rcParams['pdf.fonttype'] = 42\n",
    "matplotlib.rcParams['font.size']=50\n",
    "matplotlib.rcParams['font.family']='Arial'\n",
    "import matplotlib.pyplot as plt\n",
    "import numpy as np\n",
    "import os"
   ]
  },
  {
   "cell_type": "code",
   "execution_count": null,
   "metadata": {},
   "outputs": [],
   "source": [
    "def nan_corr_coef(x_,y_):\n",
    "    x=np.ravel(x_)\n",
    "    y=np.ravel(y_)\n",
    "    keep=(np.isinf(x)==False)&(np.isinf(y)==False)&(np.isnan(x)==False)&(np.isnan(y)==False)\n",
    "    x=x[keep]\n",
    "    y=y[keep]\n",
    "    return np.corrcoef([x,y])[0,1]\n",
    "#fig,ax = plt.subplots(figsize=(24,24))\n",
    "fig,ax = plt.subplots(figsize=(24,24))\n",
    "rho = nan_corr_coef(xhic,yfr)\n",
    "plt.loglog(xhic,yfr,'o',color='k',markersize=25,markeredgecolor='k',label='p='+str(np.round(rho,2)),alpha=0.005);\n",
    "ax.spines['top'].set_visible(False)\n",
    "ax.spines['right'].set_visible(False)\n",
    "ax.get_xaxis().tick_bottom()\n",
    "ax.get_yaxis().tick_left()\n",
    "ax.set_ylabel('Imaging proximity frequency')\n",
    "ax.set_xlabel('Hi-C number of contacts')\n",
    "#plt.axis('equal')\n",
    "plt.legend()"
   ]
  }
 ],
 "metadata": {
  "kernelspec": {
   "display_name": "Python 3 (ipykernel)",
   "language": "python",
   "name": "python3"
  },
  "language_info": {
   "codemirror_mode": {
    "name": "ipython",
    "version": 3
   },
   "file_extension": ".py",
   "mimetype": "text/x-python",
   "name": "python",
   "nbconvert_exporter": "python",
   "pygments_lexer": "ipython3",
   "version": "3.9.12"
  }
 },
 "nbformat": 4,
 "nbformat_minor": 2
}
